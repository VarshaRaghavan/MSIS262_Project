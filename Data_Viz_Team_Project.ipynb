{
 "cells": [
  {
   "cell_type": "markdown",
   "metadata": {},
   "source": [
    "# Team 6 Data Vizualization Project - County Research Data \n",
    "#### Goal is to collect the value of various parameters to research on counties in the United States. The parameters we have considered for data for population, immigration, crime, education, unemplyment, poverty, median house hold income, education and property rates."
   ]
  },
  {
   "cell_type": "code",
   "execution_count": 4,
   "metadata": {
    "collapsed": false
   },
   "outputs": [],
   "source": [
    "import pandas as pd"
   ]
  },
  {
   "cell_type": "markdown",
   "metadata": {},
   "source": [
    "### FIPS Data - FIPS Code, State Name, County Name\n",
    "<p> Using FIPS code as a standard reference across all the files </p>"
   ]
  },
  {
   "cell_type": "code",
   "execution_count": 5,
   "metadata": {
    "collapsed": true
   },
   "outputs": [],
   "source": [
    "FIPS_data=pd.read_excel('US_FIPS_Codes.xls',skiprows=1, converters={'FIPS County':str, 'FIPS State': str})\n",
    "FIPS_data[\"FIPS\"] = FIPS_data[\"FIPS State\"].map(str) + FIPS_data[\"FIPS County\"]\n",
    "FIPS_data = FIPS_data[['State', 'County Name', 'FIPS']]"
   ]
  },
  {
   "cell_type": "code",
   "execution_count": 6,
   "metadata": {
    "collapsed": false
   },
   "outputs": [
    {
     "data": {
      "text/html": [
       "<div>\n",
       "<table border=\"1\" class=\"dataframe\">\n",
       "  <thead>\n",
       "    <tr style=\"text-align: right;\">\n",
       "      <th></th>\n",
       "      <th>State</th>\n",
       "      <th>County Name</th>\n",
       "      <th>FIPS</th>\n",
       "    </tr>\n",
       "  </thead>\n",
       "  <tbody>\n",
       "    <tr>\n",
       "      <th>0</th>\n",
       "      <td>Alabama</td>\n",
       "      <td>Autauga</td>\n",
       "      <td>01001</td>\n",
       "    </tr>\n",
       "    <tr>\n",
       "      <th>1</th>\n",
       "      <td>Alabama</td>\n",
       "      <td>Baldwin</td>\n",
       "      <td>01003</td>\n",
       "    </tr>\n",
       "    <tr>\n",
       "      <th>2</th>\n",
       "      <td>Alabama</td>\n",
       "      <td>Barbour</td>\n",
       "      <td>01005</td>\n",
       "    </tr>\n",
       "    <tr>\n",
       "      <th>3</th>\n",
       "      <td>Alabama</td>\n",
       "      <td>Bibb</td>\n",
       "      <td>01007</td>\n",
       "    </tr>\n",
       "    <tr>\n",
       "      <th>4</th>\n",
       "      <td>Alabama</td>\n",
       "      <td>Blount</td>\n",
       "      <td>01009</td>\n",
       "    </tr>\n",
       "  </tbody>\n",
       "</table>\n",
       "</div>"
      ],
      "text/plain": [
       "     State County Name   FIPS\n",
       "0  Alabama     Autauga  01001\n",
       "1  Alabama     Baldwin  01003\n",
       "2  Alabama     Barbour  01005\n",
       "3  Alabama        Bibb  01007\n",
       "4  Alabama      Blount  01009"
      ]
     },
     "execution_count": 6,
     "metadata": {},
     "output_type": "execute_result"
    }
   ],
   "source": [
    "FIPS_data.head(5)"
   ]
  },
  {
   "cell_type": "markdown",
   "metadata": {},
   "source": [
    "### FIPS code is represented in mutiple ways across the files. Below are 2 functions to have a consistent 5-digit single FIPS code in for the counties. "
   ]
  },
  {
   "cell_type": "code",
   "execution_count": 7,
   "metadata": {
    "collapsed": true
   },
   "outputs": [],
   "source": [
    "# Function to convert 4 digit FIPS code to 5 digit FIPS code\n",
    "\n",
    "def buffer_FIPS(row):\n",
    "    if len(str(row['FIPS']))==4:\n",
    "        return \"0\"+str(row['FIPS'])\n",
    "    else:\n",
    "        return str(row['FIPS'])"
   ]
  },
  {
   "cell_type": "code",
   "execution_count": 8,
   "metadata": {
    "collapsed": true
   },
   "outputs": [],
   "source": [
    "# Function to convert 2 and 1 digit FIPS County codes to 3 digit code\n",
    "\n",
    "def buffer_FIPS_CTY(row):\n",
    "    if len(str(row['FIPS_CTY']))==2:\n",
    "        return \"0\"+str(row['FIPS_CTY'])\n",
    "    elif len(str(row['FIPS_CTY']))==1:\n",
    "        return \"00\"+str(row['FIPS_CTY'])\n",
    "    else:\n",
    "        return str(row['FIPS_CTY'])\n",
    "    "
   ]
  },
  {
   "cell_type": "markdown",
   "metadata": {},
   "source": [
    "### Population Estimate Data"
   ]
  },
  {
   "cell_type": "code",
   "execution_count": 9,
   "metadata": {
    "collapsed": false
   },
   "outputs": [],
   "source": [
    "population_data = pd.read_excel('PopulationEstimates.xls', skiprows=2)\n",
    "\n",
    "# Retaining required rows\n",
    "population_data = population_data[['FIPS','POP_ESTIMATE_2015']]\n",
    "\n",
    "# Having a consistant 5 digit FIPS code\n",
    "population_data['FIPS']=population_data.apply(buffer_FIPS,axis=1)"
   ]
  },
  {
   "cell_type": "code",
   "execution_count": 10,
   "metadata": {
    "collapsed": false
   },
   "outputs": [
    {
     "data": {
      "text/html": [
       "<div>\n",
       "<table border=\"1\" class=\"dataframe\">\n",
       "  <thead>\n",
       "    <tr style=\"text-align: right;\">\n",
       "      <th></th>\n",
       "      <th>FIPS</th>\n",
       "      <th>POP_ESTIMATE_2015</th>\n",
       "    </tr>\n",
       "  </thead>\n",
       "  <tbody>\n",
       "    <tr>\n",
       "      <th>0</th>\n",
       "      <td>0</td>\n",
       "      <td>320896618</td>\n",
       "    </tr>\n",
       "    <tr>\n",
       "      <th>1</th>\n",
       "      <td>01000</td>\n",
       "      <td>4853875</td>\n",
       "    </tr>\n",
       "    <tr>\n",
       "      <th>2</th>\n",
       "      <td>01001</td>\n",
       "      <td>55035</td>\n",
       "    </tr>\n",
       "    <tr>\n",
       "      <th>3</th>\n",
       "      <td>01003</td>\n",
       "      <td>203690</td>\n",
       "    </tr>\n",
       "    <tr>\n",
       "      <th>4</th>\n",
       "      <td>01005</td>\n",
       "      <td>26270</td>\n",
       "    </tr>\n",
       "  </tbody>\n",
       "</table>\n",
       "</div>"
      ],
      "text/plain": [
       "    FIPS  POP_ESTIMATE_2015\n",
       "0      0          320896618\n",
       "1  01000            4853875\n",
       "2  01001              55035\n",
       "3  01003             203690\n",
       "4  01005              26270"
      ]
     },
     "execution_count": 10,
     "metadata": {},
     "output_type": "execute_result"
    }
   ],
   "source": [
    "population_data.head (5)"
   ]
  },
  {
   "cell_type": "markdown",
   "metadata": {},
   "source": [
    "### Immigration Data\n",
    "This dataset does not have FIPS code instead has County name and State name. Each county name contains 'County' as in 'Autauga County'. Below is the procedure followed to get the FIPS code from FIPS_data file\n",
    "* Create a new column in immigration_data called 'county&state' such that it contains County name (strip the string 'County' from County name and concatenate it with State name \n",
    "* Create a new column in FIPS_data called 'county&state' with same rule as above\n",
    "* Join the 2 datasets and retain only the required columns\n",
    "\n",
    "PS : Did a search on FIPS_Data - County Name column to check if any of the county's have the string 'County' in them. No county has the string 'County' in its name (including Orange County)"
   ]
  },
  {
   "cell_type": "code",
   "execution_count": 11,
   "metadata": {
    "collapsed": false
   },
   "outputs": [],
   "source": [
    "immigration_data = pd.read_csv('Immigration_County _wise.csv')\n",
    "immigration_data = immigration_data [['County','State','County Immigrants']]\n",
    "immigration_data['county&state'] = immigration_data['County'].map(lambda x: x.rstrip('County')).map(str) + immigration_data['State']\n",
    "FIPS_data['county&state'] = FIPS_data['County Name'].map(str) +' '+ FIPS_data['State']\n",
    "immigration_data = pd.merge(immigration_data, FIPS_data, on='county&state', how='outer')\n",
    "immigration_data = immigration_data[['FIPS','County Immigrants']]"
   ]
  },
  {
   "cell_type": "code",
   "execution_count": 12,
   "metadata": {
    "collapsed": false
   },
   "outputs": [
    {
     "data": {
      "text/html": [
       "<div>\n",
       "<table border=\"1\" class=\"dataframe\">\n",
       "  <thead>\n",
       "    <tr style=\"text-align: right;\">\n",
       "      <th></th>\n",
       "      <th>FIPS</th>\n",
       "      <th>County Immigrants</th>\n",
       "    </tr>\n",
       "  </thead>\n",
       "  <tbody>\n",
       "    <tr>\n",
       "      <th>0</th>\n",
       "      <td>01001</td>\n",
       "      <td>861.0</td>\n",
       "    </tr>\n",
       "    <tr>\n",
       "      <th>1</th>\n",
       "      <td>01003</td>\n",
       "      <td>6882.0</td>\n",
       "    </tr>\n",
       "    <tr>\n",
       "      <th>2</th>\n",
       "      <td>01005</td>\n",
       "      <td>737.0</td>\n",
       "    </tr>\n",
       "    <tr>\n",
       "      <th>3</th>\n",
       "      <td>01007</td>\n",
       "      <td>251.0</td>\n",
       "    </tr>\n",
       "    <tr>\n",
       "      <th>4</th>\n",
       "      <td>01009</td>\n",
       "      <td>2393.0</td>\n",
       "    </tr>\n",
       "  </tbody>\n",
       "</table>\n",
       "</div>"
      ],
      "text/plain": [
       "    FIPS  County Immigrants\n",
       "0  01001              861.0\n",
       "1  01003             6882.0\n",
       "2  01005              737.0\n",
       "3  01007              251.0\n",
       "4  01009             2393.0"
      ]
     },
     "execution_count": 12,
     "metadata": {},
     "output_type": "execute_result"
    }
   ],
   "source": [
    "immigration_data.head(5)"
   ]
  },
  {
   "cell_type": "markdown",
   "metadata": {},
   "source": [
    "### Unemplyment and Median Houseld Income data"
   ]
  },
  {
   "cell_type": "code",
   "execution_count": 13,
   "metadata": {
    "collapsed": false
   },
   "outputs": [],
   "source": [
    "unemp_income_data = pd.read_excel('Unemployment.xls', skiprows = 7,converters={'FIPStxt':str})\n",
    "\n",
    "unemp_income_data = unemp_income_data.rename(columns={'FIPStxt': 'FIPS'})\n",
    "\n",
    "# Retaining only the required columns\n",
    "unemp_income_data = unemp_income_data[['FIPS','Unemployment_rate_2015','Median_Household_Income_2015']]"
   ]
  },
  {
   "cell_type": "code",
   "execution_count": 14,
   "metadata": {
    "collapsed": false
   },
   "outputs": [
    {
     "data": {
      "text/html": [
       "<div>\n",
       "<table border=\"1\" class=\"dataframe\">\n",
       "  <thead>\n",
       "    <tr style=\"text-align: right;\">\n",
       "      <th></th>\n",
       "      <th>FIPS</th>\n",
       "      <th>Unemployment_rate_2015</th>\n",
       "      <th>Median_Household_Income_2015</th>\n",
       "    </tr>\n",
       "  </thead>\n",
       "  <tbody>\n",
       "    <tr>\n",
       "      <th>0</th>\n",
       "      <td>01000</td>\n",
       "      <td>6.1</td>\n",
       "      <td>44833</td>\n",
       "    </tr>\n",
       "    <tr>\n",
       "      <th>1</th>\n",
       "      <td>01001</td>\n",
       "      <td>5.2</td>\n",
       "      <td>56580</td>\n",
       "    </tr>\n",
       "    <tr>\n",
       "      <th>2</th>\n",
       "      <td>01003</td>\n",
       "      <td>5.5</td>\n",
       "      <td>52387</td>\n",
       "    </tr>\n",
       "    <tr>\n",
       "      <th>3</th>\n",
       "      <td>01005</td>\n",
       "      <td>8.9</td>\n",
       "      <td>31433</td>\n",
       "    </tr>\n",
       "    <tr>\n",
       "      <th>4</th>\n",
       "      <td>01007</td>\n",
       "      <td>6.6</td>\n",
       "      <td>40767</td>\n",
       "    </tr>\n",
       "  </tbody>\n",
       "</table>\n",
       "</div>"
      ],
      "text/plain": [
       "    FIPS Unemployment_rate_2015 Median_Household_Income_2015\n",
       "0  01000                    6.1                        44833\n",
       "1  01001                    5.2                        56580\n",
       "2  01003                    5.5                        52387\n",
       "3  01005                    8.9                        31433\n",
       "4  01007                    6.6                        40767"
      ]
     },
     "execution_count": 14,
     "metadata": {},
     "output_type": "execute_result"
    }
   ],
   "source": [
    "unemp_income_data.head(5)"
   ]
  },
  {
   "cell_type": "markdown",
   "metadata": {},
   "source": [
    "### Education Data"
   ]
  },
  {
   "cell_type": "code",
   "execution_count": 15,
   "metadata": {
    "collapsed": true
   },
   "outputs": [],
   "source": [
    "education_data = pd.read_excel('Education.xls', skiprows=4, converters={'FIPS Code':str})\n",
    "\n",
    "# Renaming the columns\n",
    "education_data = education_data.rename(columns={\"FIPS Code\": \"FIPS\",\n",
    "                \"Bachelor's degree or higher, 2011-2015\" : \"Bachelor's degree/higher(2015)-Absolute\",\n",
    "                \"Percent of adults with a bachelor's degree or higher, 2011-2015\" : \"Bachelor's degree/higher(2015)-Percentage\"})\n",
    "\n",
    "# Retaining only required fields\n",
    "education_data = education_data[[\"FIPS\",\"Bachelor's degree/higher(2015)-Absolute\",\"Bachelor's degree/higher(2015)-Percentage\"]]"
   ]
  },
  {
   "cell_type": "code",
   "execution_count": 45,
   "metadata": {
    "collapsed": false
   },
   "outputs": [
    {
     "data": {
      "text/html": [
       "<div>\n",
       "<table border=\"1\" class=\"dataframe\">\n",
       "  <thead>\n",
       "    <tr style=\"text-align: right;\">\n",
       "      <th></th>\n",
       "      <th>FIPS</th>\n",
       "      <th>Bachelor's degree/higher(2015)-Absolute</th>\n",
       "      <th>Bachelor's degree/higher(2015)-Percentage</th>\n",
       "    </tr>\n",
       "  </thead>\n",
       "  <tbody>\n",
       "    <tr>\n",
       "      <th>0</th>\n",
       "      <td>00000</td>\n",
       "      <td>62952272.0</td>\n",
       "      <td>29.8</td>\n",
       "    </tr>\n",
       "    <tr>\n",
       "      <th>1</th>\n",
       "      <td>01000</td>\n",
       "      <td>761650.0</td>\n",
       "      <td>23.5</td>\n",
       "    </tr>\n",
       "    <tr>\n",
       "      <th>2</th>\n",
       "      <td>01001</td>\n",
       "      <td>8437.0</td>\n",
       "      <td>23.2</td>\n",
       "    </tr>\n",
       "    <tr>\n",
       "      <th>3</th>\n",
       "      <td>01003</td>\n",
       "      <td>39710.0</td>\n",
       "      <td>29.0</td>\n",
       "    </tr>\n",
       "    <tr>\n",
       "      <th>4</th>\n",
       "      <td>01005</td>\n",
       "      <td>2354.0</td>\n",
       "      <td>12.5</td>\n",
       "    </tr>\n",
       "  </tbody>\n",
       "</table>\n",
       "</div>"
      ],
      "text/plain": [
       "    FIPS  Bachelor's degree/higher(2015)-Absolute  \\\n",
       "0  00000                               62952272.0   \n",
       "1  01000                                 761650.0   \n",
       "2  01001                                   8437.0   \n",
       "3  01003                                  39710.0   \n",
       "4  01005                                   2354.0   \n",
       "\n",
       "   Bachelor's degree/higher(2015)-Percentage  \n",
       "0                                       29.8  \n",
       "1                                       23.5  \n",
       "2                                       23.2  \n",
       "3                                       29.0  \n",
       "4                                       12.5  "
      ]
     },
     "execution_count": 45,
     "metadata": {},
     "output_type": "execute_result"
    }
   ],
   "source": [
    "education_data.head(5)"
   ]
  },
  {
   "cell_type": "markdown",
   "metadata": {},
   "source": [
    "### Poverty Estimate Data"
   ]
  },
  {
   "cell_type": "code",
   "execution_count": 46,
   "metadata": {
    "collapsed": false
   },
   "outputs": [],
   "source": [
    "poverty_data = pd.read_excel('PovertyEstimates.xls', skiprows=3, converters={'FIPStxt':str})\n",
    "\n",
    "poverty_data = poverty_data.rename(columns={'FIPStxt': 'FIPS', 'POVALL_2015': 'Povert_Estimate(2015)'})\n",
    "\n",
    "# Retaining only required columns \n",
    "poverty_data = poverty_data[['FIPS','Povert_Estimate(2015)']]"
   ]
  },
  {
   "cell_type": "code",
   "execution_count": 47,
   "metadata": {
    "collapsed": false
   },
   "outputs": [
    {
     "data": {
      "text/html": [
       "<div>\n",
       "<table border=\"1\" class=\"dataframe\">\n",
       "  <thead>\n",
       "    <tr style=\"text-align: right;\">\n",
       "      <th></th>\n",
       "      <th>FIPS</th>\n",
       "      <th>Povert_Estimate(2015)</th>\n",
       "    </tr>\n",
       "  </thead>\n",
       "  <tbody>\n",
       "    <tr>\n",
       "      <th>0</th>\n",
       "      <td>00000</td>\n",
       "      <td>46153077</td>\n",
       "    </tr>\n",
       "    <tr>\n",
       "      <th>1</th>\n",
       "      <td>01000</td>\n",
       "      <td>875853</td>\n",
       "    </tr>\n",
       "    <tr>\n",
       "      <th>2</th>\n",
       "      <td>01001</td>\n",
       "      <td>6966</td>\n",
       "    </tr>\n",
       "    <tr>\n",
       "      <th>3</th>\n",
       "      <td>01003</td>\n",
       "      <td>25941</td>\n",
       "    </tr>\n",
       "    <tr>\n",
       "      <th>4</th>\n",
       "      <td>01005</td>\n",
       "      <td>7380</td>\n",
       "    </tr>\n",
       "  </tbody>\n",
       "</table>\n",
       "</div>"
      ],
      "text/plain": [
       "    FIPS Povert_Estimate(2015)\n",
       "0  00000              46153077\n",
       "1  01000                875853\n",
       "2  01001                  6966\n",
       "3  01003                 25941\n",
       "4  01005                  7380"
      ]
     },
     "execution_count": 47,
     "metadata": {},
     "output_type": "execute_result"
    }
   ],
   "source": [
    "poverty_data.head(5)"
   ]
  },
  {
   "cell_type": "markdown",
   "metadata": {},
   "source": [
    "### Crime Data"
   ]
  },
  {
   "cell_type": "code",
   "execution_count": 48,
   "metadata": {
    "collapsed": false
   },
   "outputs": [],
   "source": [
    "crime_data = pd.read_csv('crime_data_w_population_and_crime_rate.csv',converters={'FIPS_ST':str, 'FIPS_CTY':str})\n",
    "\n",
    "# Converting FIPS_CTY codes to 3 digit codes\n",
    "crime_data['FIPS_CTY'] = crime_data.apply(buffer_FIPS_CTY,axis=1)\n",
    "\n",
    "# Concatenating FIPS_CTY and FIPS_State\n",
    "crime_data['FIPS'] = crime_data['FIPS_ST'].map(str) + crime_data['FIPS_CTY']\n",
    "\n",
    "# Converting FIPS codes to 5 digit codes\n",
    "crime_data['FIPS'] = crime_data.apply(buffer_FIPS,axis=1)\n",
    "\n",
    "# Retaining only required columns\n",
    "crime_data = crime_data[['FIPS','crime_rate_per_100000']]"
   ]
  },
  {
   "cell_type": "code",
   "execution_count": 49,
   "metadata": {
    "collapsed": false
   },
   "outputs": [
    {
     "data": {
      "text/html": [
       "<div>\n",
       "<table border=\"1\" class=\"dataframe\">\n",
       "  <thead>\n",
       "    <tr style=\"text-align: right;\">\n",
       "      <th></th>\n",
       "      <th>FIPS</th>\n",
       "      <th>crime_rate_per_100000</th>\n",
       "    </tr>\n",
       "  </thead>\n",
       "  <tbody>\n",
       "    <tr>\n",
       "      <th>0</th>\n",
       "      <td>29510</td>\n",
       "      <td>1791.995377</td>\n",
       "    </tr>\n",
       "    <tr>\n",
       "      <th>1</th>\n",
       "      <td>05035</td>\n",
       "      <td>1754.914968</td>\n",
       "    </tr>\n",
       "    <tr>\n",
       "      <th>2</th>\n",
       "      <td>17003</td>\n",
       "      <td>1664.700485</td>\n",
       "    </tr>\n",
       "    <tr>\n",
       "      <th>3</th>\n",
       "      <td>48261</td>\n",
       "      <td>1456.310680</td>\n",
       "    </tr>\n",
       "    <tr>\n",
       "      <th>4</th>\n",
       "      <td>22031</td>\n",
       "      <td>1447.402430</td>\n",
       "    </tr>\n",
       "  </tbody>\n",
       "</table>\n",
       "</div>"
      ],
      "text/plain": [
       "    FIPS  crime_rate_per_100000\n",
       "0  29510            1791.995377\n",
       "1  05035            1754.914968\n",
       "2  17003            1664.700485\n",
       "3  48261            1456.310680\n",
       "4  22031            1447.402430"
      ]
     },
     "execution_count": 49,
     "metadata": {},
     "output_type": "execute_result"
    }
   ],
   "source": [
    "crime_data.head(5)"
   ]
  },
  {
   "cell_type": "markdown",
   "metadata": {},
   "source": [
    "### Property Rates Data (per square feet)"
   ]
  },
  {
   "cell_type": "code",
   "execution_count": 50,
   "metadata": {
    "collapsed": true
   },
   "outputs": [],
   "source": [
    "property_rate_data = pd.read_csv('County_MedianListingPricePerSqft_AllHomes.csv',\n",
    "                     converters={'StateCodeFIPS':str, 'MunicipalCodeFIPS':str})\n",
    "\n",
    "# Creating a FIPS code column to have the State FIPS and Municipal Codes(countys) to a 5 digit\n",
    "property_rate_data['FIPS'] = property_rate_data['StateCodeFIPS'].map(str) + property_rate_data['MunicipalCodeFIPS']\n",
    "\n",
    "# Renaming the property rate field\n",
    "property_rate_data = property_rate_data.rename(columns={'2015-12': 'Cost/FtSq (2015-Dec)'})\n",
    "\n",
    "# Retaining required columns\n",
    "property_rate_data = property_rate_data[['FIPS', 'Cost/FtSq (2015-Dec)']]"
   ]
  },
  {
   "cell_type": "code",
   "execution_count": 51,
   "metadata": {
    "collapsed": false
   },
   "outputs": [
    {
     "data": {
      "text/html": [
       "<div>\n",
       "<table border=\"1\" class=\"dataframe\">\n",
       "  <thead>\n",
       "    <tr style=\"text-align: right;\">\n",
       "      <th></th>\n",
       "      <th>FIPS</th>\n",
       "      <th>Cost/FtSq (2015-Dec)</th>\n",
       "    </tr>\n",
       "  </thead>\n",
       "  <tbody>\n",
       "    <tr>\n",
       "      <th>0</th>\n",
       "      <td>06037</td>\n",
       "      <td>358.802817</td>\n",
       "    </tr>\n",
       "    <tr>\n",
       "      <th>1</th>\n",
       "      <td>17031</td>\n",
       "      <td>152.945097</td>\n",
       "    </tr>\n",
       "    <tr>\n",
       "      <th>2</th>\n",
       "      <td>48201</td>\n",
       "      <td>110.309699</td>\n",
       "    </tr>\n",
       "    <tr>\n",
       "      <th>3</th>\n",
       "      <td>04013</td>\n",
       "      <td>139.335726</td>\n",
       "    </tr>\n",
       "    <tr>\n",
       "      <th>4</th>\n",
       "      <td>06073</td>\n",
       "      <td>318.531062</td>\n",
       "    </tr>\n",
       "  </tbody>\n",
       "</table>\n",
       "</div>"
      ],
      "text/plain": [
       "    FIPS  Cost/FtSq (2015-Dec)\n",
       "0  06037            358.802817\n",
       "1  17031            152.945097\n",
       "2  48201            110.309699\n",
       "3  04013            139.335726\n",
       "4  06073            318.531062"
      ]
     },
     "execution_count": 51,
     "metadata": {},
     "output_type": "execute_result"
    }
   ],
   "source": [
    "property_rate_data.head(5)"
   ]
  },
  {
   "cell_type": "markdown",
   "metadata": {},
   "source": [
    "### Merging all the files on FIPS column\n",
    "FIPS_data contains all the rows at County level.\n",
    "Several other datasets contain county level data along with data aggregated at state level. So initial merge (FIPS_Data and Population_Data) is on left join so as to retain only the columns which contain county data. "
   ]
  },
  {
   "cell_type": "code",
   "execution_count": 52,
   "metadata": {
    "collapsed": false
   },
   "outputs": [],
   "source": [
    "FIPS_data = FIPS_data[['State','County Name','FIPS']]\n",
    "\n",
    "county_research_data = FIPS_data.merge(population_data,on='FIPS', how = 'left')\\\n",
    "                .merge(immigration_data,on='FIPS')\\\n",
    "                .merge(unemp_income_data,on='FIPS')\\\n",
    "                .merge(education_data,on='FIPS')\\\n",
    "                .merge(poverty_data,on='FIPS')\\\n",
    "                .merge(crime_data,on='FIPS')\\\n",
    "                .merge(property_rate_data,on='FIPS')\n",
    "        "
   ]
  },
  {
   "cell_type": "code",
   "execution_count": 53,
   "metadata": {
    "collapsed": false
   },
   "outputs": [
    {
     "data": {
      "text/html": [
       "<div>\n",
       "<table border=\"1\" class=\"dataframe\">\n",
       "  <thead>\n",
       "    <tr style=\"text-align: right;\">\n",
       "      <th></th>\n",
       "      <th>State</th>\n",
       "      <th>County Name</th>\n",
       "      <th>FIPS</th>\n",
       "      <th>POP_ESTIMATE_2015</th>\n",
       "      <th>County Immigrants</th>\n",
       "      <th>Unemployment_rate_2015</th>\n",
       "      <th>Median_Household_Income_2015</th>\n",
       "      <th>Bachelor's degree/higher(2015)-Absolute</th>\n",
       "      <th>Bachelor's degree/higher(2015)-Percentage</th>\n",
       "      <th>Povert_Estimate(2015)</th>\n",
       "      <th>crime_rate_per_100000</th>\n",
       "      <th>Cost/FtSq (2015-Dec)</th>\n",
       "    </tr>\n",
       "  </thead>\n",
       "  <tbody>\n",
       "    <tr>\n",
       "      <th>0</th>\n",
       "      <td>Alabama</td>\n",
       "      <td>Autauga</td>\n",
       "      <td>01001</td>\n",
       "      <td>55035.0</td>\n",
       "      <td>861.0</td>\n",
       "      <td>5.2</td>\n",
       "      <td>56580</td>\n",
       "      <td>8437.0</td>\n",
       "      <td>23.2</td>\n",
       "      <td>6966</td>\n",
       "      <td>251.601926</td>\n",
       "      <td>89.477541</td>\n",
       "    </tr>\n",
       "    <tr>\n",
       "      <th>1</th>\n",
       "      <td>Alabama</td>\n",
       "      <td>Baldwin</td>\n",
       "      <td>01003</td>\n",
       "      <td>203690.0</td>\n",
       "      <td>6882.0</td>\n",
       "      <td>5.5</td>\n",
       "      <td>52387</td>\n",
       "      <td>39710.0</td>\n",
       "      <td>29.0</td>\n",
       "      <td>25941</td>\n",
       "      <td>228.086325</td>\n",
       "      <td>132.849394</td>\n",
       "    </tr>\n",
       "    <tr>\n",
       "      <th>2</th>\n",
       "      <td>Alabama</td>\n",
       "      <td>Barbour</td>\n",
       "      <td>01005</td>\n",
       "      <td>26270.0</td>\n",
       "      <td>737.0</td>\n",
       "      <td>8.9</td>\n",
       "      <td>31433</td>\n",
       "      <td>2354.0</td>\n",
       "      <td>12.5</td>\n",
       "      <td>7380</td>\n",
       "      <td>177.278771</td>\n",
       "      <td>87.353059</td>\n",
       "    </tr>\n",
       "    <tr>\n",
       "      <th>3</th>\n",
       "      <td>Alabama</td>\n",
       "      <td>Bibb</td>\n",
       "      <td>01007</td>\n",
       "      <td>22561.0</td>\n",
       "      <td>251.0</td>\n",
       "      <td>6.6</td>\n",
       "      <td>40767</td>\n",
       "      <td>1664.0</td>\n",
       "      <td>10.6</td>\n",
       "      <td>4516</td>\n",
       "      <td>217.661692</td>\n",
       "      <td>87.437500</td>\n",
       "    </tr>\n",
       "    <tr>\n",
       "      <th>4</th>\n",
       "      <td>Alabama</td>\n",
       "      <td>Blount</td>\n",
       "      <td>01009</td>\n",
       "      <td>57676.0</td>\n",
       "      <td>2393.0</td>\n",
       "      <td>5.4</td>\n",
       "      <td>50487</td>\n",
       "      <td>5080.0</td>\n",
       "      <td>12.9</td>\n",
       "      <td>8399</td>\n",
       "      <td>210.810064</td>\n",
       "      <td>90.436346</td>\n",
       "    </tr>\n",
       "  </tbody>\n",
       "</table>\n",
       "</div>"
      ],
      "text/plain": [
       "     State County Name   FIPS  POP_ESTIMATE_2015  County Immigrants  \\\n",
       "0  Alabama     Autauga  01001            55035.0              861.0   \n",
       "1  Alabama     Baldwin  01003           203690.0             6882.0   \n",
       "2  Alabama     Barbour  01005            26270.0              737.0   \n",
       "3  Alabama        Bibb  01007            22561.0              251.0   \n",
       "4  Alabama      Blount  01009            57676.0             2393.0   \n",
       "\n",
       "  Unemployment_rate_2015 Median_Household_Income_2015  \\\n",
       "0                    5.2                        56580   \n",
       "1                    5.5                        52387   \n",
       "2                    8.9                        31433   \n",
       "3                    6.6                        40767   \n",
       "4                    5.4                        50487   \n",
       "\n",
       "   Bachelor's degree/higher(2015)-Absolute  \\\n",
       "0                                   8437.0   \n",
       "1                                  39710.0   \n",
       "2                                   2354.0   \n",
       "3                                   1664.0   \n",
       "4                                   5080.0   \n",
       "\n",
       "   Bachelor's degree/higher(2015)-Percentage Povert_Estimate(2015)  \\\n",
       "0                                       23.2                  6966   \n",
       "1                                       29.0                 25941   \n",
       "2                                       12.5                  7380   \n",
       "3                                       10.6                  4516   \n",
       "4                                       12.9                  8399   \n",
       "\n",
       "   crime_rate_per_100000  Cost/FtSq (2015-Dec)  \n",
       "0             251.601926             89.477541  \n",
       "1             228.086325            132.849394  \n",
       "2             177.278771             87.353059  \n",
       "3             217.661692             87.437500  \n",
       "4             210.810064             90.436346  "
      ]
     },
     "execution_count": 53,
     "metadata": {},
     "output_type": "execute_result"
    }
   ],
   "source": [
    "county_research_data.head(5)"
   ]
  },
  {
   "cell_type": "code",
   "execution_count": null,
   "metadata": {
    "collapsed": true
   },
   "outputs": [],
   "source": []
  },
  {
   "cell_type": "code",
   "execution_count": 54,
   "metadata": {
    "collapsed": false
   },
   "outputs": [],
   "source": [
    "# Writing the combinedbdataframe into excel file with no index\n",
    "county_research_data.to_csv('County_Research_Data.csv', index=False)"
   ]
  },
  {
   "cell_type": "code",
   "execution_count": null,
   "metadata": {
    "collapsed": true
   },
   "outputs": [],
   "source": []
  }
 ],
 "metadata": {
  "kernelspec": {
   "display_name": "Python 2",
   "language": "python",
   "name": "python2"
  },
  "language_info": {
   "codemirror_mode": {
    "name": "ipython",
    "version": 2
   },
   "file_extension": ".py",
   "mimetype": "text/x-python",
   "name": "python",
   "nbconvert_exporter": "python",
   "pygments_lexer": "ipython2",
   "version": "2.7.11"
  }
 },
 "nbformat": 4,
 "nbformat_minor": 0
}
